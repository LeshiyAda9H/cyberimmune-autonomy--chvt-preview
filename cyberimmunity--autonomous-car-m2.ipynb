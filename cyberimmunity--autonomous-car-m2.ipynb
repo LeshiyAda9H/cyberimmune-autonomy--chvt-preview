{
 "cells": [
  {
   "attachments": {},
   "cell_type": "markdown",
   "metadata": {
    "datalore": {
     "hide_input_from_viewers": false,
     "hide_output_from_viewers": false,
     "node_id": "0RJSlfIlixBX3VaSDV2gM0",
     "report_properties": {
      "y": 0
     },
     "type": "MD"
    }
   },
   "source": [
    "# Кибериммунная автономность$\\\\$Создание конструктивно защищённого автономного наземного транспортного средства$\\\\$Модуль 2\n",
    "\n",
    "## О документе\n",
    "\n",
    "Версия 1.03\n",
    "\n",
    "Модуль 2 для регионального этапа соревнований по кибериммунной автономности"
   ]
  },
  {
   "cell_type": "markdown",
   "metadata": {},
   "source": [
    "## Подготовка к работе c модулем 2\n",
    "\n",
    "Перенесите в блок ниже ваши реализации классов коммуникационного шлюза (CommunicationGateway), систему навигации (NavigationSystem), управления (ControlSystem)"
   ]
  },
  {
   "cell_type": "code",
   "execution_count": 8,
   "metadata": {},
   "outputs": [],
   "source": [
    "# ваш код\n",
    "\n",
    "# вставьте свой код в эту ячейку\n",
    "\n",
    "from multiprocessing import Queue\n",
    "from src.communication_gateway import BaseCommunicationGateway\n",
    "from src.config import CONTROL_SYSTEM_QUEUE_NAME\n",
    "from src.event_types import Event\n",
    "\n",
    "class CommunicationGateway(BaseCommunicationGateway):\n",
    "    \"\"\"CommunicationGateway класс для реализации логики взаимодействия\n",
    "    с системой планирования заданий\n",
    "\n",
    "    Работает в отдельном процессе, поэтому создаётся как наследник класса Process\n",
    "    \"\"\"\n",
    "    def _send_mission_to_consumers(self):\n",
    "        \"\"\" метод для отправки сообщения с маршрутным заданием в систему управления \"\"\"\n",
    "        \n",
    "        # имена очередей блоков находятся в файле src/config.py\n",
    "        # события нужно отправлять в соответствие с диаграммой информационных потоков\n",
    "        control_q_name = CONTROL_SYSTEM_QUEUE_NAME\n",
    "\n",
    "        # события передаются в виде экземпляров класса Event, \n",
    "        # описание класса находится в файле src/event_types.py\n",
    "        event = Event(source=BaseCommunicationGateway.event_source_name,\n",
    "                      destination=control_q_name,\n",
    "                      operation=\"set_mission\", parameters=self._mission\n",
    "                      )\n",
    "\n",
    "        # поиск в каталоге нужной очереди (в данном случае - системы управления)\n",
    "        control_q: Queue = self._queues_dir.get_queue(control_q_name)\n",
    "        # отправка события в найденную очередь\n",
    "        control_q.put(event)\n",
    "        \n",
    "# найдите подходящее имя очереди в файле src/config.py и добавьте в строчку ниже\n",
    "from src.config import SERVOS_QUEUE_NAME\n",
    "from src.control_system import BaseControlSystem\n",
    "\n",
    "\n",
    "class ControlSystem(BaseControlSystem):\n",
    "    \"\"\"ControlSystem блок расчёта управления \"\"\"\n",
    "\n",
    "    def _send_speed_and_direction_to_consumers(self, speed, direction):\n",
    "        servos_q_name = SERVOS_QUEUE_NAME # замените на правильное название очереди\n",
    "        servos_q: Queue = self._queues_dir.get_queue(servos_q_name)\n",
    "\n",
    "        # отправка сообщения с желаемой скоростью\n",
    "        event_speed = Event(source=BaseCommunicationGateway.event_source_name,\n",
    "                      destination=servos_q_name,\n",
    "                      operation=\"set_speed\", parameters=speed\n",
    "                      ) # замените на код создания сообщения со скоростью для приводов\n",
    "                           # подсказка, требуемая операция - set_speed\n",
    "\n",
    "        # отправка сообщения с желаемым направлением\n",
    "        event_direction =  Event(source=BaseCommunicationGateway.event_source_name,\n",
    "                      destination=servos_q_name,\n",
    "                      operation=\"set_direction\", parameters=direction\n",
    "                      ) # замените на код создания сообщения с направлением для приводов\n",
    "                               # подсказка, требуемая операция - set_direction\n",
    "\n",
    "        servos_q.put(event_speed)\n",
    "        servos_q.put(event_direction)       \n",
    "\n",
    "\n",
    "# найдите подходящее имя очереди в файле src/config.py и добавьте в строчку ниже\n",
    "from src.config import CONTROL_SYSTEM_QUEUE_NAME\n",
    "from src.navigation_system import BaseNavigationSystem\n",
    "\n",
    "\n",
    "class NavigationSystem(BaseNavigationSystem):\n",
    "    \"\"\" класс навигационного блока \"\"\"\n",
    "    def _send_position_to_consumers(self):        \n",
    "        control_q_name = CONTROL_SYSTEM_QUEUE_NAME # замените на правильное название очереди\n",
    "        event = Event(source=BaseCommunicationGateway.event_source_name,\n",
    "                      destination=control_q_name,\n",
    "                      operation=\"position_update\", parameters=self._position\n",
    "                      ) # замените на код создания сообщения с координатами для системы управления \n",
    "                     # подсказка, требуемая операция - position_update\n",
    "        control_q: Queue = self._queues_dir.get_queue(control_q_name)\n",
    "        control_q.put(event)\n",
    "                "
   ]
  },
  {
   "cell_type": "markdown",
   "metadata": {},
   "source": [
    "Если у вас настроена и работает СУПА, установите в True значение переменной afcs_present"
   ]
  },
  {
   "cell_type": "code",
   "execution_count": 9,
   "metadata": {},
   "outputs": [],
   "source": [
    "afcs_present = True"
   ]
  },
  {
   "cell_type": "markdown",
   "metadata": {},
   "source": [
    "В этом модуле изменим идентификатор машинки:"
   ]
  },
  {
   "cell_type": "code",
   "execution_count": 10,
   "metadata": {},
   "outputs": [],
   "source": [
    "car_id = \"m2\" "
   ]
  },
  {
   "cell_type": "markdown",
   "metadata": {},
   "source": [
    "### Модуль 2. Отправка маршрутного здания и следование по маршруту\n",
    "\n",
    "В рамках этого модуля отрабатывается только автономность. \n",
    "Никаких киберпрепятствий пока не будет. \n",
    "\n",
    "Что нужно сделать по пунктам:\n",
    "1. Для заданных начальных и конечных точек создать маршрут, содержащий не менее пяти промежуточных путевых точек вручную или с использованием таких инструментов как APMPlanner, MissionPlanner. <br>Содержимое wpl файла нужно вставить в соответствующий кодовый блок блокнота, запустить симуляцию и убедиться, что машинка успешно проходит этот маршрут.\n",
    "2. Задать скоростные ограничения в виде массива элементов GeoSpecificSpeedLimit\n",
    "3. Запустить симуляцию\n"
   ]
  },
  {
   "cell_type": "markdown",
   "metadata": {},
   "source": [
    "Формат WPL файла описан на этой странице: \n",
    "\n",
    "https://mavlink.io/en/file_formats/#mission_plain_text_file\n",
    "\n",
    "Пример содержимого файла с текстовым описанием маршрута"
   ]
  },
  {
   "cell_type": "code",
   "execution_count": 11,
   "metadata": {},
   "outputs": [],
   "source": [
    "wpl_file_content =  \"\"\"QGC WPL 110\n",
    "0  1  0  16  0  5  0  0  59.881527 29.830053  0  1\n",
    "1  0  3  16  0  5  0  0  59.881917 29.828350  0  1\n",
    "2  0  3  16  0  5  0  0  59.881830 29.827888  0  1\n",
    "3  0  3  16  0  5  0  0  59.881917 29.827461  0  1\n",
    "4  0  3  16  0  5  0  0  59.878108 29.824056  0  1\n",
    "5  0  3  16  0  5  0  0  59.876917 29.829217  0  1\n",
    "6  0  3  16  0  5  0  0  59.876699 29.829021  0  1\n",
    "7  1  0  16  0  5  0  0  59.876383 29.828468  0  1\n",
    "8  0  3  16  0  5  0  0  59.876340 29.828693  0  1\n",
    "9  0  3  16  0  5  0  0  59.876153 29.828542  0  1\n",
    "10  0  3  16  0  5  0  0  59.875639 29.827471  0  1\n",
    "11  0  3  16  0  5  0  0  59.875270 29.827725  0  1\n",
    "12  0  3  16  0  5  0  0  59.875166 29.827532  0  1\n",
    "13  0  3  16  0  5  0  0  59.875000 29.827820  0  1\n",
    "14  1  0  16  0  5  0  0  59.875133 29.828882  0  1\n",
    "15  0  3  16  0  5  0  0  59.874685 29.829965  0  1\n",
    "16  0  3  16  0  5  0  0  59.874243 29.829873  0  1\n",
    "\"\"\"\n"
   ]
  },
  {
   "cell_type": "markdown",
   "metadata": {},
   "source": [
    "Для выполнения задания в блоке ниже  \n",
    "1. замените имя файла с маршрутом (на свой), вот эту строку:\n",
    "   ```python\n",
    "   wpl_file = \"module2.wpl\"\n",
    "   ```\n",
    "2. измените список скоростных ограничений, вот этот массив:\n",
    "   ```python\n",
    "   speed_limits = [\n",
    "    GeoSpecificSpeedLimit(...\n",
    "    ```\n",
    "   \n",
    "Учтите, что вам нужно доставить груз как можно быстрее, но при этом не нарушить правила дорожного движения. \n",
    "\n",
    "Ограничения скорости\n",
    "- населённый пункт - 60 км/ч\n",
    "- пешеходная зона - 20 км/ч\n",
    "- магистраль - 110 км/ч\n",
    "\n",
    "Составьте маршрут доставки так, чтобы машинка доехала за минимальное время. Для определения оптимального маршрута допустимо пользоваться сторонними сервисами (например, Яндекс картами)."
   ]
  },
  {
   "cell_type": "code",
   "execution_count": 12,
   "metadata": {},
   "outputs": [],
   "source": [
    "# создадим wpl файл и запишем туда маршрутное задание\n",
    "wpl_file = \"module2.wpl\""
   ]
  },
  {
   "cell_type": "markdown",
   "metadata": {},
   "source": [
    "**Примечание**:\n",
    "После создания собственного маршрута удалите перезапись содержимого, чтобы не потерять свои наработки!\n"
   ]
  },
  {
   "cell_type": "code",
   "execution_count": 13,
   "metadata": {},
   "outputs": [],
   "source": [
    "with open(wpl_file, \"w\") as f:\n",
    "    f.write(wpl_file_content)"
   ]
  },
  {
   "cell_type": "markdown",
   "metadata": {},
   "source": [
    "**Напоминание**: не забудьте изменить скоростные ограничения (speed_limits) при задании маршрутного задания!"
   ]
  },
  {
   "cell_type": "code",
   "execution_count": 14,
   "metadata": {},
   "outputs": [
    {
     "name": "stdout",
     "output_type": "stream",
     "text": [
      "[Point(59.881527, 29.830053, 0.0), Point(59.881917, 29.82835, 0.0), Point(59.88183, 29.827888, 0.0), Point(59.881917, 29.827461, 0.0), Point(59.878108, 29.824056, 0.0), Point(59.876917, 29.829217, 0.0), Point(59.876699, 29.829021, 0.0), Point(59.876383, 29.828468, 0.0), Point(59.87634, 29.828693, 0.0), Point(59.876153, 29.828542, 0.0), Point(59.875639, 29.827471, 0.0), Point(59.87527, 29.827725, 0.0), Point(59.875166, 29.827532, 0.0), Point(59.875, 29.82782, 0.0), Point(59.875133, 29.828882, 0.0), Point(59.874685, 29.829965, 0.0), Point(59.874243, 29.829873, 0.0)]\n"
     ]
    }
   ],
   "source": [
    "from src.wpl_parser import WPLParser\n",
    "\n",
    "parser = WPLParser(wpl_file)    \n",
    "points = parser.parse()\n",
    "print(points)\n",
    "\n",
    "from src.mission_type import GeoSpecificSpeedLimit\n",
    "speed_limits = [\n",
    "    GeoSpecificSpeedLimit(0, 20),\n",
    "    GeoSpecificSpeedLimit(3, 60),\n",
    "    GeoSpecificSpeedLimit(6, 20),\n",
    "]\n",
    "\n",
    "from src.mission_planner import Mission\n",
    "\n",
    "home = points[0]\n",
    "mission = Mission(home=home, waypoints=points,speed_limits=speed_limits, armed=True)"
   ]
  },
  {
   "cell_type": "markdown",
   "metadata": {},
   "source": [
    "Запускаем симуляцию с новым маршрутным заданием"
   ]
  },
  {
   "cell_type": "code",
   "execution_count": 15,
   "metadata": {},
   "outputs": [
    {
     "name": "stdout",
     "output_type": "stream",
     "text": [
      "[ИНФО][QUEUES] создан каталог очередей\n",
      "[ИНФО][QUEUES] регистрируем очередь planner.mqtt\n",
      "[ИНФО][QUEUES] регистрируем очередь sitl.mqtt\n",
      "[ИНФО][QUEUES] регистрируем очередь planner\n",
      "[ИНФО][MISSION PLANNER] создана система планирования заданий\n",
      "[ИНФО][QUEUES] регистрируем очередь sitl\n",
      "[ИНФО][QUEUES] регистрируем очередь communication\n",
      "[ИНФО][QUEUES] регистрируем очередь control\n",
      "[ИНФО][CONTROL] создана система управления\n",
      "[ИНФО][QUEUES] регистрируем очередь navigation\n",
      "[ИНФО][QUEUES] регистрируем очередь servos\n",
      "[ИНФО][QUEUES] регистрируем очередь cargo\n",
      "[ИНФО][CARGO] создан компонент грузового отсека, отсек заблокирован\n",
      "[ИНФО][MISSION PLANNER] старт системы планирования заданий\n",
      "[ИНФО][CARGO] старт блока грузового отсека\n",
      "[ИНФО][CONTROL] старт системы управления\n",
      "[ИНФО][MISSION PLANNER] запрошена новая задача, отправляем получателям\n",
      "[ИНФО][MISSION PLANNER] новая задача отправлена в коммуникационный шлюз\n",
      "[ИНФО][CONTROL] установлена новая задача, начинаем следовать по маршруту, текущее время 12:05:32.431664\n",
      "[ИНФО][CONTROL] новая скорость 20 (была 0)\n",
      "[ИНФО][CONTROL] новое направление 294 (было 0)\n",
      "[ИНФО][CONTROL] сегмент пройден\n",
      "[ИНФО][CONTROL] новое направление 252 (было 294)\n"
     ]
    },
    {
     "name": "stderr",
     "output_type": "stream",
     "text": [
      "Process CargoBay-13:\n",
      "Process ControlSystem-10:\n",
      "Process MissionPlanner-7:\n",
      "Process NavigationSystem-11:\n",
      "Process TelemetrySender-6:\n",
      "Process CommunicationGateway-9:\n",
      "Process Servos-12:\n",
      "Traceback (most recent call last):\n",
      "Process SITL-8:\n",
      "Process MissionSender-5:\n",
      "Traceback (most recent call last):\n",
      "Traceback (most recent call last):\n",
      "Traceback (most recent call last):\n",
      "Traceback (most recent call last):\n",
      "Traceback (most recent call last):\n",
      "  File \"/usr/lib/python3.12/multiprocessing/process.py\", line 314, in _bootstrap\n",
      "    self.run()\n",
      "  File \"/usr/lib/python3.12/multiprocessing/process.py\", line 314, in _bootstrap\n",
      "    self.run()\n"
     ]
    },
    {
     "ename": "KeyboardInterrupt",
     "evalue": "",
     "output_type": "error",
     "traceback": [
      "\u001b[0;31m---------------------------------------------------------------------------\u001b[0m",
      "\u001b[0;31mKeyboardInterrupt\u001b[0m                         Traceback (most recent call last)",
      "Cell \u001b[0;32mIn[15], line 78\u001b[0m\n\u001b[1;32m     70\u001b[0m system_components\u001b[38;5;241m.\u001b[39mstart()\n\u001b[1;32m     72\u001b[0m \u001b[38;5;66;03m# ограничение поездки по времени\u001b[39;00m\n\u001b[1;32m     73\u001b[0m \u001b[38;5;66;03m# параметр sleep - время в секундах,\u001b[39;00m\n\u001b[1;32m     74\u001b[0m \u001b[38;5;66;03m# настройте этот параметр так, чтобы ваша машинка завершила маршрут\u001b[39;00m\n\u001b[1;32m     75\u001b[0m \u001b[38;5;66;03m# в случае превышения времени выполнения ячейки на более чем 10 секунд от заданного, \u001b[39;00m\n\u001b[1;32m     76\u001b[0m \u001b[38;5;66;03m# допустимо перезапустить вычислительное ядро и повторно выполнить весь блокнот, штрафные очки за это не начисляются\u001b[39;00m\n\u001b[1;32m     77\u001b[0m \u001b[38;5;66;03m# при условии, что повторный запуск закончился успешно\u001b[39;00m\n\u001b[0;32m---> 78\u001b[0m \u001b[43msleep\u001b[49m\u001b[43m(\u001b[49m\u001b[38;5;241;43m200\u001b[39;49m\u001b[43m)\u001b[49m\n\u001b[1;32m     80\u001b[0m \u001b[38;5;66;03m# останавливаем все компоненты\u001b[39;00m\n\u001b[1;32m     81\u001b[0m system_components\u001b[38;5;241m.\u001b[39mstop()\n",
      "\u001b[0;31mKeyboardInterrupt\u001b[0m: "
     ]
    },
    {
     "name": "stderr",
     "output_type": "stream",
     "text": [
      "Traceback (most recent call last):\n",
      "Traceback (most recent call last):\n",
      "  File \"/usr/lib/python3.12/multiprocessing/process.py\", line 314, in _bootstrap\n",
      "    self.run()\n",
      "  File \"/usr/lib/python3.12/multiprocessing/process.py\", line 314, in _bootstrap\n",
      "    self.run()\n",
      "  File \"/usr/lib/python3.12/multiprocessing/process.py\", line 314, in _bootstrap\n",
      "    self.run()\n",
      "  File \"/usr/lib/python3.12/multiprocessing/process.py\", line 314, in _bootstrap\n",
      "    self.run()\n",
      "  File \"/home/leshiy/PIKS/cyberimmune-autonomy--chvt-preview/src/mission_planner_mqtt.py\", line 160, in run\n",
      "    sleep(self._recalc_interval_sec)\n",
      "Traceback (most recent call last):\n",
      "  File \"/home/leshiy/PIKS/cyberimmune-autonomy--chvt-preview/src/mission_planner.py\", line 180, in run\n",
      "    sleep(self._recalc_interval_sec)\n",
      "  File \"/home/leshiy/PIKS/cyberimmune-autonomy--chvt-preview/src/sitl.py\", line 186, in run\n",
      "    sleep(self._recalc_interval_sec)\n",
      "  File \"/home/leshiy/PIKS/cyberimmune-autonomy--chvt-preview/src/control_system.py\", line 268, in run\n",
      "    sleep(self._recalc_interval_sec)\n",
      "  File \"/usr/lib/python3.12/multiprocessing/process.py\", line 314, in _bootstrap\n",
      "    self.run()\n",
      "  File \"/home/leshiy/PIKS/cyberimmune-autonomy--chvt-preview/src/navigation_system.py\", line 107, in run\n",
      "    sleep(self._recalc_interval_sec)\n",
      "  File \"/usr/lib/python3.12/multiprocessing/process.py\", line 314, in _bootstrap\n",
      "    self.run()\n",
      "  File \"/home/leshiy/PIKS/cyberimmune-autonomy--chvt-preview/src/cargo_bay.py\", line 110, in run\n",
      "    sleep(self._recalc_interval_sec)\n",
      "  File \"/usr/lib/python3.12/multiprocessing/process.py\", line 314, in _bootstrap\n",
      "    self.run()\n",
      "KeyboardInterrupt\n",
      "KeyboardInterrupt\n"
     ]
    },
    {
     "name": "stderr",
     "output_type": "stream",
     "text": [
      "  File \"/home/leshiy/PIKS/cyberimmune-autonomy--chvt-preview/src/servos.py\", line 141, in run\n",
      "    sleep(self._recalc_interval_sec)\n",
      "KeyboardInterrupt\n",
      "  File \"/home/leshiy/PIKS/cyberimmune-autonomy--chvt-preview/src/sitl_mqtt.py\", line 162, in run\n",
      "    sleep(self._recalc_interval_sec)\n",
      "KeyboardInterrupt\n",
      "KeyboardInterrupt\n",
      "  File \"/home/leshiy/PIKS/cyberimmune-autonomy--chvt-preview/src/communication_gateway.py\", line 108, in run\n",
      "    sleep(self._recalc_interval_sec)\n",
      "KeyboardInterrupt\n",
      "KeyboardInterrupt\n",
      "KeyboardInterrupt\n",
      "KeyboardInterrupt\n"
     ]
    }
   ],
   "source": [
    "from time import sleep\n",
    "from geopy import Point as GeoPoint\n",
    "\n",
    "\n",
    "from src.queues_dir import QueuesDirectory\n",
    "from src.servos import Servos\n",
    "from src.sitl import SITL\n",
    "from src.cargo_bay import CargoBay\n",
    "from src.mission_planner import MissionPlanner\n",
    "from src.config import LOG_ERROR, LOG_INFO\n",
    "from src.mission_planner_mqtt import MissionSender\n",
    "from src.sitl_mqtt import TelemetrySender\n",
    "from src.system_wrapper import SystemComponentsContainer\n",
    "\n",
    "\n",
    "# координата текущего положения машинки\n",
    "home = GeoPoint(latitude=59.881527, longitude=29.830053) \n",
    "\n",
    "\n",
    "# каталог очередей для передачи сообщений между блоками\n",
    "queues_dir = QueuesDirectory() \n",
    "\n",
    "if afcs_present:\n",
    "    mission_sender = MissionSender(\n",
    "        queues_dir=queues_dir, client_id=car_id, log_level=LOG_ERROR)\n",
    "    telemetry_sender = TelemetrySender(\n",
    "        queues_dir=queues_dir, client_id=car_id, log_level=LOG_ERROR)\n",
    "\n",
    "mission_planner = MissionPlanner(\n",
    "    queues_dir, afcs_present=afcs_present, mission=mission)\n",
    "\n",
    "sitl = SITL(\n",
    "    queues_dir=queues_dir, position=home,\n",
    "    car_id=car_id, post_telemetry=afcs_present, log_level=LOG_ERROR)\n",
    "\n",
    "\n",
    "communication_gateway = CommunicationGateway(\n",
    "    queues_dir=queues_dir, log_level=LOG_ERROR)\n",
    "control_system = ControlSystem(queues_dir=queues_dir, log_level=LOG_INFO)\n",
    "\n",
    "navigation_system = NavigationSystem(\n",
    "    queues_dir=queues_dir, log_level=LOG_ERROR)\n",
    "\n",
    "servos = Servos(queues_dir=queues_dir, log_level=LOG_ERROR)\n",
    "cargo_bay = CargoBay(queues_dir=queues_dir, log_level=LOG_INFO)\n",
    "\n",
    "# у нас получилось довольно много блоков, используем класс SystemComponentsContainer\n",
    "# для упрощения рутинной работы с ними - таким образом мы собираем все блоки машинки в одном \"кузове\"\n",
    "system_components = SystemComponentsContainer(\n",
    "    components=[\n",
    "        mission_sender,\n",
    "        telemetry_sender,\n",
    "        sitl,\n",
    "        mission_planner,\n",
    "        navigation_system,\n",
    "        servos,\n",
    "        cargo_bay,\n",
    "        communication_gateway,\n",
    "        control_system\n",
    "    ] if afcs_present else [\n",
    "        sitl,\n",
    "        mission_planner,\n",
    "        navigation_system,\n",
    "        servos,\n",
    "        cargo_bay,\n",
    "        communication_gateway,\n",
    "        control_system\n",
    "    ])\n",
    "\n",
    "system_components.start()\n",
    "\n",
    "# ограничение поездки по времени\n",
    "# параметр sleep - время в секундах,\n",
    "# настройте этот параметр так, чтобы ваша машинка завершила маршрут\n",
    "# в случае превышения времени выполнения ячейки на более чем 10 секунд от заданного, \n",
    "# допустимо перезапустить вычислительное ядро и повторно выполнить весь блокнот, штрафные очки за это не начисляются\n",
    "# при условии, что повторный запуск закончился успешно\n",
    "sleep(200)\n",
    "\n",
    "# останавливаем все компоненты\n",
    "system_components.stop()\n",
    "\n",
    "# удалим все созданные компоненты\n",
    "system_components.clean()"
   ]
  },
  {
   "cell_type": "markdown",
   "metadata": {},
   "source": [
    "На этом модуль 2 завершён, надеемся, у вас всё получилось! \n",
    "На что можно ещё обратить вниманием - можно ли как-то улучшить маршрут для ускорения доставки? (без нарушения ПДД) - например, использовать более скоростные трассы или срезать какие-то участки.\n",
    "\n",
    "Если идей быстрых улучшений нет, то пришло время перейти к самому интересному модулю и познакомиться с киберпрепятствиями!\n",
    "\n",
    "Для работы над модулем 3 задания откройте блокнот cyberimmunity--autonomous-car-m3."
   ]
  },
  {
   "cell_type": "markdown",
   "metadata": {},
   "source": []
  }
 ],
 "metadata": {
  "datalore": {
   "base_environment": "default",
   "computation_mode": "JUPYTER",
   "package_manager": "pip",
   "packages": [],
   "version": 1
  },
  "kernelspec": {
   "display_name": "Python 3",
   "language": "python",
   "name": "python3"
  },
  "language_info": {
   "codemirror_mode": {
    "name": "ipython",
    "version": 3
   },
   "file_extension": ".py",
   "mimetype": "text/x-python",
   "name": "python",
   "nbconvert_exporter": "python",
   "pygments_lexer": "ipython3",
   "version": "3.12.3"
  }
 },
 "nbformat": 4,
 "nbformat_minor": 4
}
